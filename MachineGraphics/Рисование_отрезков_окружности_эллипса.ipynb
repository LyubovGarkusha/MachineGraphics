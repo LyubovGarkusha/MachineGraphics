{
 "cells": [
  {
   "cell_type": "code",
   "execution_count": 8,
   "metadata": {},
   "outputs": [
    {
     "name": "stdout",
     "output_type": "stream",
     "text": [
      "+--------------------+\n",
      "|                    |\n",
      "|                    |\n",
      "|    @@@@@@          |\n",
      "|    @@@@@@          |\n",
      "|    @@@@@@          |\n",
      "|                    |\n",
      "|                    |\n",
      "|                    |\n",
      "|@                   |\n",
      "|                    |\n",
      "+--------------------+\n"
     ]
    }
   ],
   "source": [
    "from collections import namedtuple\n",
    "from copy import copy\n",
    " \n",
    "Colour = namedtuple('Colour','r,g,b')\n",
    "Colour.copy = lambda self: copy(self)\n",
    " \n",
    "black = Colour(0,0,0)\n",
    "white = Colour(255,255,255) # Colour ranges are not enforced.\n",
    " \n",
    "class Bitmap():\n",
    "    def __init__(self, width = 40, height = 40, background=white):\n",
    "        assert width > 0 and height > 0 and type(background) == Colour\n",
    "        self.width = width\n",
    "        self.height = height\n",
    "        self.background = background\n",
    "        self.map = [[background.copy() for w in range(width)] for h in range(height)]\n",
    " \n",
    "    def fillrect(self, x, y, width, height, colour=black):\n",
    "        assert x >= 0 and y >= 0 and width > 0 and height > 0 and type(colour) == Colour\n",
    "        for h in range(height):\n",
    "            for w in range(width):\n",
    "                self.map[y+h][x+w] = colour.copy()\n",
    " \n",
    "    def chardisplay(self):\n",
    "        txt = [''.join(' ' if bit==self.background else '@'\n",
    "                       for bit in row)\n",
    "               for row in self.map]\n",
    "        # Boxing\n",
    "        txt = ['|'+row+'|' for row in txt]\n",
    "        txt.insert(0, '+' + '-' * self.width + '+')\n",
    "        txt.append('+' + '-' * self.width + '+')\n",
    "        print('\\n'.join(reversed(txt)))\n",
    " \n",
    "    def set(self, x, y, colour=black):\n",
    "        assert type(colour) == Colour\n",
    "        self.map[y][x]=colour\n",
    " \n",
    "    def get(self, x, y):\n",
    "\t    return self.map[y][x]\n",
    " \n",
    " \n",
    "bitmap = Bitmap(20,10)\n",
    "bitmap.fillrect(4, 5, 6, 3)\n",
    "assert bitmap.get(5, 5) == black\n",
    "assert bitmap.get(0, 1) == white\n",
    "bitmap.set(0, 1, black)\n",
    "assert bitmap.get(0, 1) == black\n",
    "bitmap.chardisplay()"
   ]
  },
  {
   "cell_type": "code",
   "execution_count": 11,
   "metadata": {},
   "outputs": [
    {
     "name": "stdout",
     "output_type": "stream",
     "text": [
      "+-----------------+\n",
      "|        @        |\n",
      "|       @ @       |\n",
      "|      @   @      |\n",
      "|     @     @     |\n",
      "|    @       @    |\n",
      "|    @        @   |\n",
      "|   @          @  |\n",
      "|  @            @ |\n",
      "| @              @|\n",
      "|  @            @ |\n",
      "|   @          @  |\n",
      "|    @       @@   |\n",
      "|     @     @     |\n",
      "|      @   @      |\n",
      "|       @ @       |\n",
      "|        @        |\n",
      "|                 |\n",
      "+-----------------+\n"
     ]
    }
   ],
   "source": [
    "\n",
    "def line(self, x0, y0, x1, y1):\n",
    "    \"Bresenham's line algorithm\"\n",
    "    dx = abs(x1 - x0)\n",
    "    dy = abs(y1 - y0)\n",
    "    x, y = x0, y0\n",
    "    sx = -1 if x0 > x1 else 1\n",
    "    sy = -1 if y0 > y1 else 1\n",
    "    if dx > dy:\n",
    "        err = dx / 2.0\n",
    "        while x != x1:\n",
    "            self.set(x, y)\n",
    "            err -= dy\n",
    "            if err < 0:\n",
    "                y += sy\n",
    "                err += dx\n",
    "            x += sx\n",
    "    else:\n",
    "        err = dy / 2.0\n",
    "        while y != y1:\n",
    "            self.set(x, y)\n",
    "            err -= dx\n",
    "            if err < 0:\n",
    "                x += sx\n",
    "                err += dy\n",
    "            y += sy        \n",
    "    self.set(x, y)\n",
    "Bitmap.line = line\n",
    " \n",
    "bitmap = Bitmap(17,17)\n",
    "for points in ((1,8,8,16),(8,16,16,8),(16,8,8,1),(8,1,1,8)):\n",
    "    bitmap.line(*points)\n",
    "bitmap.chardisplay()"
   ]
  },
  {
   "cell_type": "code",
   "execution_count": 43,
   "metadata": {},
   "outputs": [],
   "source": [
    "def circle_brez(cx, cy, r):\n",
    "    x = 0   # задание начальных значений\n",
    "    y = r\n",
    "    d = 2 - 2 * r   # значение D(x,y)  при (0,R)\n",
    "    while y >= 0:\n",
    "        # высвечивание текущего пиксела\n",
    "        \n",
    "        pixels[cx + x, cy + y] = (0, 0 ,0)\n",
    "        pixels[cx + x, cy - y] = (0, 0 ,0)\n",
    "        pixels[cx - x, cy + y] = (0, 0 ,0)\n",
    "        pixels[cx - x, cy - y] = (0, 0 ,0)\n",
    "\n",
    "        if d < 0:  # пиксель лежит внутри окружности\n",
    "            buf = 2 * d + 2 * y - 1\n",
    "            x += 1\n",
    "\n",
    "            if buf <= 0:  # горизонтальный шаг\n",
    "                d = d + 2 * x + 1\n",
    "            else:  # диагональный шаг\n",
    "                y -= 1\n",
    "                d = d + 2 * x - 2 * y + 2\n",
    "\n",
    "            continue\n",
    "\n",
    "        if d > 0:  # пиксель лежит вне окружности\n",
    "            buf = 2 * d - 2 * x - 1\n",
    "            y -= 1\n",
    "\n",
    "            if buf > 0:  # вертикальный шаг\n",
    "                d = d - 2 * y + 1\n",
    "            else:  # диагональный шаг\n",
    "                x += 1\n",
    "                d = d + 2 * x - 2 * y + 2\n",
    "\n",
    "            continue\n",
    "\n",
    "        if d == 0.0:  # пиксель лежит на окружности\n",
    "            x += 1   # диагональный шаг\n",
    "            y -= 1\n",
    "            d = d + 2 * x - 2 * y + 2\n"
   ]
  },
  {
   "cell_type": "code",
   "execution_count": 35,
   "metadata": {
    "collapsed": true
   },
   "outputs": [],
   "source": [
    "def ellips_brez(cx, cy, a, b):\n",
    "    x = 0  # начальные значения\n",
    "    y = b\n",
    "    a = a ** 2\n",
    "    d = round(b * b / 2 - a * b * 2 + a / 2)\n",
    "    b = b ** 2\n",
    "    while y >= 0:\n",
    "        pixels[cx + x, cy + y] = (0, 0 ,0)\n",
    "        pixels[cx + x, cy - y] = (0, 0 ,0)\n",
    "        pixels[cx - x, cy + y] = (0, 0 ,0)\n",
    "        pixels[cx - x, cy - y] = (0, 0 ,0)\n",
    "        if d < 0:  # пиксель лежит внутри эллипса\n",
    "            buf = 2 * d + 2 * a * y - a\n",
    "            x += 1\n",
    "            if buf <= 0:  # горизотальный шаг\n",
    "                d = d + 2 * b * x + b\n",
    "            else:  # диагональный шаг\n",
    "                y -= 1\n",
    "                d = d + 2 * b * x - 2 * a * y + a + b\n",
    "\n",
    "            continue\n",
    "\n",
    "        if d > 0:  # пиксель лежит вне эллипса\n",
    "            buf = 2 * d - 2 * b * x - b\n",
    "            y -= 1\n",
    "\n",
    "            if buf > 0:  # вертикальный шаг\n",
    "                d = d - 2 * y * a + a\n",
    "            else:  # диагональный шаг\n",
    "                x += 1\n",
    "                d = d + 2 * x * b - 2 * y * a + a + b\n",
    "\n",
    "            continue\n",
    "\n",
    "        if d == 0.0:  # пиксель лежит на окружности\n",
    "            x += 1  # диагональный шаг\n",
    "            y -= 1\n",
    "            d = d + 2 * x * b - 2 * y * a + a + b"
   ]
  },
  {
   "cell_type": "code",
   "execution_count": 52,
   "metadata": {},
   "outputs": [],
   "source": [
    "from PIL import Image\n",
    "\n",
    "img = Image.new( 'RGB', (500,250), \"white\") # create a new white image\n",
    "pixels = img.load()"
   ]
  },
  {
   "cell_type": "code",
   "execution_count": 53,
   "metadata": {},
   "outputs": [],
   "source": [
    "ellips_brez(100, 100, 50, 75)\n",
    "circle_brez(300,100,50)"
   ]
  },
  {
   "cell_type": "code",
   "execution_count": 54,
   "metadata": {},
   "outputs": [
    {
     "data": {
      "image/png": "[encoded data removed]",
      "text/plain": [
       "<PIL.Image.Image image mode=RGB size=500x250 at 0x7A153A4CC0>"
      ]
     },
     "execution_count": 54,
     "metadata": {},
     "output_type": "execute_result"
    }
   ],
   "source": [
    "img"
   ]
  }
 ],
 "metadata": {
  "kernelspec": {
   "display_name": "Python 3",
   "language": "python",
   "name": "python3"
  },
  "language_info": {
   "codemirror_mode": {
    "name": "ipython",
    "version": 3
   },
   "file_extension": ".py",
   "mimetype": "text/x-python",
   "name": "python",
   "nbconvert_exporter": "python",
   "pygments_lexer": "ipython3",
   "version": "3.6.1"
  }
 },
 "nbformat": 4,
 "nbformat_minor": 2
}
