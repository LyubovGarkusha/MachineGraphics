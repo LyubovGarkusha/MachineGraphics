{
 "cells": [
  {
   "cell_type": "code",
   "execution_count": 55,
   "metadata": {
    "collapsed": true
   },
   "outputs": [],
   "source": [
    "from PIL import Image\n",
    "\n",
    "img = Image.new( 'RGB', (500,250), \"white\") # create a new white image\n",
    "pixels = img.load()"
   ]
  },
  {
   "cell_type": "code",
   "execution_count": 61,
   "metadata": {
    "collapsed": true
   },
   "outputs": [],
   "source": [
    "def draw_edges(image, edges):\n",
    "    for ed in edges:\n",
    "        img.line(ed[0], ed[1], ed[2], ed[3])"
   ]
  },
  {
   "cell_type": "code",
   "execution_count": 57,
   "metadata": {
    "collapsed": true
   },
   "outputs": [],
   "source": [
    "def find_max_y(ed):\n",
    "    x_max = None\n",
    "    for i in range(len(ed)):\n",
    "        if x_max is None or ed[i][0] > x_max:\n",
    "            x_max = ed[i][0]\n",
    "\n",
    "        if x_max is None or ed[i][2] > x_max:\n",
    "            x_max = ed[i][2]\n",
    "\n",
    "    return x_max\n",
    "\n",
    "\n",
    "def fill_xor(win):\n",
    "    pix = QPixmap()\n",
    "    p = QPainter()\n",
    "\n",
    "\n",
    "    xm = int(find_max_y(win.edges))\n",
    "    for ed in win.edges:\n",
    "        p.begin(win.image)\n",
    "        # если горизонтальное ребро - дальше\n",
    "        if ed[1] == ed[3]:\n",
    "            continue\n",
    "        # иначе определяем границы сканирования\n",
    "        if ed[1] > ed[3]:\n",
    "            ed[1], ed[3] = ed[3], ed[1]\n",
    "\n",
    "            ed[0], ed[2] = ed[2], ed[0]\n",
    "            \n",
    "\n",
    "        y = ed[1]\n",
    "        end_y = ed[3]\n",
    "        dx = (ed[2] - ed[0]) / (ed[3] - ed[1])\n",
    "        start_x = ed[0]\n",
    "\n",
    "        while y < end_y:\n",
    "            # определяем пересечение\n",
    "\n",
    "            x = start_x\n",
    "            while x < xm:\n",
    "                col = QColor(win.image.pixel(x, y))\n",
    "                if col == col_zero:\n",
    "                    p.setPen(QPen(col_one))\n",
    "                else:\n",
    "                    p.setPen(QPen(col_zero))\n",
    "                p.drawPoint(x, y)\n",
    "                x += 1\n",
    "\n",
    "            start_x += dx\n",
    "            y += 1\n",
    "\n",
    "            if win.delay.isChecked():\n",
    "                delay()\n",
    "                pix.convertFromImage(win.image)\n",
    "                win.scene.addPixmap(pix)\n",
    "\n",
    "        if not win.delay.isChecked():\n",
    "            pix.convertFromImage(win.image)\n",
    "            win.scene.addPixmap(pix)\n",
    "        p.end()\n",
    "    draw_edges(win.image, win.edges)"
   ]
  }
 ],
 "metadata": {
  "kernelspec": {
   "display_name": "Python 3",
   "language": "python",
   "name": "python3"
  },
  "language_info": {
   "codemirror_mode": {
    "name": "ipython",
    "version": 3
   },
   "file_extension": ".py",
   "mimetype": "text/x-python",
   "name": "python",
   "nbconvert_exporter": "python",
   "pygments_lexer": "ipython3",
   "version": "3.6.1"
  }
 },
 "nbformat": 4,
 "nbformat_minor": 2
}
